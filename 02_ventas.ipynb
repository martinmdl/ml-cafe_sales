{
 "cells": [
  {
   "cell_type": "markdown",
   "id": "f77856aa",
   "metadata": {},
   "source": [
    "### **Segunda limpieza del dataset: [01_ventas.xls](https://docs.google.com/spreadsheets/d/1NFH-6nRnqv7jqEjHuLQpdWG9Z-PhsvnT/edit?usp=drive_link&ouid=100767986945074374198&rtpof=true&sd=true)**\n",
    "\n",
    "- 1. Reconfigurar PKs (idProducto) de PRODUCTO\n",
    "- 2. Mapear DETALLE_VENTA/producto con PRODUCTO/idProducto\n",
    "- 3. Modificar formato VENTA/hora\n",
    "\n",
    "---\n",
    "\n",
    "#### Importar excel (*01_ventas.xls*) para trabajar sobre los atributos desde Pandas"
   ]
  },
  {
   "cell_type": "code",
   "execution_count": 1,
   "id": "69482df8",
   "metadata": {},
   "outputs": [],
   "source": [
    "import pandas as pd\n",
    "\n",
    "# Leer archivos .xls <pip install xlrd>\n",
    "df_venta = pd.read_excel('01_ventas.xls', sheet_name=\"VENTA\")\n",
    "df_producto = pd.read_excel('01_ventas.xls', sheet_name=\"PRODUCTO\")\n",
    "df_detalle_venta = pd.read_excel('01_ventas.xls', sheet_name=\"DETALLE_VENTA\")"
   ]
  },
  {
   "cell_type": "markdown",
   "id": "a0d0ed90",
   "metadata": {},
   "source": [
    "---\n",
    "\n",
    "#### 1. Reconfigurar PKs (*idProducto*) de PRODUCTO:\n",
    "- Prefijo: primeras tres letras de la columna *categoria* en mayúscula.\n",
    "- Sufijo: valor autoincremental (001, 002, ...) para cada producto dentro de la categoría."
   ]
  },
  {
   "cell_type": "code",
   "execution_count": 2,
   "id": "684405cf",
   "metadata": {},
   "outputs": [
    {
     "name": "stdout",
     "output_type": "stream",
     "text": [
      "   idProducto           nombre categoria\n",
      "0           1        Medialuna    Dulces\n",
      "1           2            Latte     Cafés\n",
      "2           3            Chipá   Salados\n",
      "3           4       Flat White     Cafés\n",
      "4           5  Onda Medialunas    Promos\n"
     ]
    }
   ],
   "source": [
    "print(df_producto[[\"idProducto\", \"nombre\", \"categoria\"]].head())"
   ]
  },
  {
   "cell_type": "code",
   "execution_count": 3,
   "id": "968f2948",
   "metadata": {},
   "outputs": [
    {
     "name": "stdout",
     "output_type": "stream",
     "text": [
      "  idProducto             nombre categoria\n",
      "0     DUL001          Medialuna    Dulces\n",
      "1     CAF001              Latte     Cafés\n",
      "2     SAL001              Chipá   Salados\n",
      "3     CAF002         Flat White     Cafés\n",
      "4     PRO001    Onda Medialunas    Promos\n",
      "5     DUL002  Cookie Red Velvet    Dulces\n",
      "6     DUL003     Cookie Clásica    Dulces\n",
      "7     DUL004   Pan de Chocolate    Dulces\n",
      "8     CAF003              Magic     Cafés\n",
      "9     DUL005          Croissant    Dulces\n"
     ]
    }
   ],
   "source": [
    "# Generar IDs de 3 cifras por cada productos dentro de una categoría\n",
    "df_producto[\"id_nuevo\"] = (\n",
    "    df_producto.groupby(\"categoria\").cumcount() + 1\n",
    ").astype(str).str.zfill(3)\n",
    "\n",
    "# Generar prefijo en mayúscula con las primeras 3 letras de la categoría\n",
    "df_producto[\"id_nuevo\"] = df_producto[\"categoria\"].str[:3].str.upper() + df_producto[\"id_nuevo\"]\n",
    "\n",
    "# Cambiar los valores de idProducto por los nuevos\n",
    "df_producto[\"idProducto\"] = df_producto[\"id_nuevo\"]\n",
    "df_producto = df_producto.drop(columns=[\"id_nuevo\"])\n",
    "\n",
    "print(df_producto[[\"idProducto\", \"nombre\", \"categoria\"]].head(10))"
   ]
  },
  {
   "cell_type": "markdown",
   "id": "c6906095",
   "metadata": {},
   "source": [
    "---\n",
    "\n",
    "#### 2. Mapear *DETALLE_VENTA/producto* con *PRODUCTO/idProducto*:\n",
    "\n",
    "- Eliminar información redundante.\n",
    "- Relacionar ambas tablas."
   ]
  },
  {
   "cell_type": "code",
   "execution_count": 4,
   "id": "77e54c8d",
   "metadata": {},
   "outputs": [
    {
     "name": "stdout",
     "output_type": "stream",
     "text": [
      "   idVenta          producto       categoria\n",
      "0     6812             Latte  Café con leche\n",
      "1     6812  Pan de Chocolate          Dulces\n",
      "2     6812         Vaso 12oz     Adicionales\n",
      "3     6811    Cookie Clásica         Cookies\n",
      "4     6811        Alfacookie       Alfajores\n"
     ]
    }
   ],
   "source": [
    "print(df_detalle_venta[[\"idVenta\",\"producto\",\"categoria\"]].head())"
   ]
  },
  {
   "cell_type": "code",
   "execution_count": 5,
   "id": "6c15ee1e",
   "metadata": {},
   "outputs": [
    {
     "name": "stdout",
     "output_type": "stream",
     "text": [
      "   idVenta idProducto\n",
      "0     6812     CAF001\n",
      "1     6812     DUL004\n",
      "2     6812     ADI001\n",
      "3     6811     DUL003\n",
      "4     6811     DUL009\n"
     ]
    }
   ],
   "source": [
    "# Crear mapa de nombres a IDs\n",
    "mapa = dict(zip(df_producto[\"nombre\"], df_producto[\"idProducto\"]))\n",
    "\n",
    "# Reemplazar en detalle_venta\n",
    "df_detalle_venta[\"idProducto\"] = df_detalle_venta[\"producto\"].map(mapa)\n",
    "\n",
    "# Eliminar columnas reemplazadas\n",
    "df_detalle_venta = df_detalle_venta.drop(columns=[\"producto\", \"categoria\"])\n",
    "\n",
    "# Ordenar columnas\n",
    "df_detalle_venta = df_detalle_venta[[\"idVenta\", \"idProducto\", \"cantidad\", \"precio\", \"costo\", \"cancelada\"]]\n",
    "\n",
    "print(df_detalle_venta[[\"idVenta\", \"idProducto\"]].head())"
   ]
  },
  {
   "cell_type": "markdown",
   "id": "3c0b8ba0",
   "metadata": {},
   "source": [
    "---\n",
    "\n",
    "#### 3. Modificar formato VENTA/hora\n",
    "- Actual: dia/mes/año hh:mm:ss\n",
    "- Nuevo: hh:mm"
   ]
  },
  {
   "cell_type": "code",
   "execution_count": 6,
   "id": "626d43c8",
   "metadata": {},
   "outputs": [
    {
     "name": "stdout",
     "output_type": "stream",
     "text": [
      "   idVenta      fecha                hora\n",
      "0     6812 2025-09-04 2025-09-04 19:14:06\n",
      "1     6811 2025-09-04 2025-09-04 19:11:49\n",
      "2     6810 2025-09-04 2025-09-04 19:10:58\n",
      "3     6809 2025-09-04 2025-09-04 19:07:29\n",
      "4     6808 2025-09-04 2025-09-04 19:04:18\n"
     ]
    }
   ],
   "source": [
    "print(df_venta[[\"idVenta\", \"fecha\", \"hora\"]].head())"
   ]
  },
  {
   "cell_type": "code",
   "execution_count": 7,
   "id": "957074c2",
   "metadata": {},
   "outputs": [
    {
     "name": "stdout",
     "output_type": "stream",
     "text": [
      "   idVenta      fecha   hora\n",
      "0     6812 2025-09-04  19:14\n",
      "1     6811 2025-09-04  19:11\n",
      "2     6810 2025-09-04  19:10\n",
      "3     6809 2025-09-04  19:07\n",
      "4     6808 2025-09-04  19:04\n"
     ]
    }
   ],
   "source": [
    "# Establecer formato datetime\n",
    "df_venta[\"hora\"] = pd.to_datetime(df_venta[\"hora\"], format=\"%d/%m/%Y %H:%M:%S\")\n",
    "\n",
    "# Cambiar formato a \"hh:mm\"\n",
    "df_venta[\"hora\"] = df_venta[\"hora\"].dt.strftime(\"%H:%M\")\n",
    "\n",
    "print(df_venta[[\"idVenta\", \"fecha\", \"hora\"]].head())"
   ]
  }
 ],
 "metadata": {
  "kernelspec": {
   "display_name": "Python 3",
   "language": "python",
   "name": "python3"
  },
  "language_info": {
   "codemirror_mode": {
    "name": "ipython",
    "version": 3
   },
   "file_extension": ".py",
   "mimetype": "text/x-python",
   "name": "python",
   "nbconvert_exporter": "python",
   "pygments_lexer": "ipython3",
   "version": "3.12.8"
  }
 },
 "nbformat": 4,
 "nbformat_minor": 5
}
