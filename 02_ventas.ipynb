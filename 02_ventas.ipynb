{
 "cells": [
  {
   "cell_type": "markdown",
   "id": "f77856aa",
   "metadata": {},
   "source": [
    "- PRODUCTO/codigo: resetear ids (por nombre, no por categoría)\n",
    "- VENTA/hora: **(”dia/mes/año HH:mm:ss” —— “HH:mm”)**\n",
    "- DETALLE_VENTA/idProducto: crear columna a partir de “producto” + “categoria”"
   ]
  },
  {
   "cell_type": "code",
   "execution_count": 29,
   "id": "69482df8",
   "metadata": {},
   "outputs": [
    {
     "name": "stdout",
     "output_type": "stream",
     "text": [
      "   idProducto           nombre categoria  cantidad  total_ARS\n",
      "0           1        Medialuna    Dulces      2487    3091300\n",
      "1           2            Latte     Cafés      1412    5261410\n",
      "2           3            Chipá   Salados      1382    3498725\n",
      "3           4       Flat White     Cafés       933    3539800\n",
      "4           5  Onda Medialunas    Promos       721    4103500\n"
     ]
    }
   ],
   "source": [
    "import pandas as pd\n",
    "\n",
    "# Para leer .xls <pip install xlrd>\n",
    "\n",
    "df_venta = pd.read_excel('01_ventas.xls', sheet_name=\"VENTA\")\n",
    "df_producto = pd.read_excel('01_ventas.xls', sheet_name=\"PRODUCTO\")\n",
    "df_detalle_venta = pd.read_excel('01_ventas.xls', sheet_name=\"DETALLE_VENTA\")\n",
    "\n",
    "print(df_producto.head())"
   ]
  },
  {
   "cell_type": "markdown",
   "id": "a0d0ed90",
   "metadata": {},
   "source": [
    "---\n",
    "\n",
    "#### Queremos reconfigurar PKs (atributo: idProducto) de la tabla PRODCUTO:\n",
    "- prefijo: primeras tres letras de la columna *categoria* en mayúscula.\n",
    "- sufijo: valor autoincremental (001, 002, ...) para cada producto dentro de la categoría"
   ]
  },
  {
   "cell_type": "code",
   "execution_count": 30,
   "id": "968f2948",
   "metadata": {},
   "outputs": [
    {
     "name": "stdout",
     "output_type": "stream",
     "text": [
      "  idProducto             nombre categoria  cantidad  total_ARS\n",
      "0     DUL001          Medialuna    Dulces      2487    3091300\n",
      "1     CAF001              Latte     Cafés      1412    5261410\n",
      "2     SAL001              Chipá   Salados      1382    3498725\n",
      "3     CAF002         Flat White     Cafés       933    3539800\n",
      "4     PRO001    Onda Medialunas    Promos       721    4103500\n",
      "5     DUL002  Cookie Red Velvet    Dulces       643    2416600\n",
      "6     DUL003     Cookie Clásica    Dulces       582    1964100\n",
      "7     DUL004   Pan de Chocolate    Dulces       499    2179400\n",
      "8     CAF003              Magic     Cafés       464    1463400\n",
      "9     DUL005          Croissant    Dulces       464    1342600\n"
     ]
    }
   ],
   "source": [
    "# Genera IDs de 3 cifras por productos dentro de una categoría\n",
    "df_producto[\"id_nuevo\"] = (\n",
    "    df_producto.groupby(\"categoria\").cumcount() + 1\n",
    ").astype(str).str.zfill(3)\n",
    "\n",
    "# Genera prefijo con las primeras 3 letras de la categoría en mayúscula\n",
    "df_producto[\"id_nuevo\"] = df_producto[\"categoria\"].str[:3].str.upper() + df_producto[\"id_nuevo\"]\n",
    "\n",
    "# Cambia los valores de idProducto por los nuevos\n",
    "df_producto[\"idProducto\"] = df_producto[\"id_nuevo\"]\n",
    "df_producto = df_producto.drop(columns=[\"id_nuevo\"])\n",
    "\n",
    "print(df_producto.head(10))"
   ]
  },
  {
   "cell_type": "markdown",
   "id": "c6906095",
   "metadata": {},
   "source": [
    "---\n",
    "\n",
    "HOLA GOLA GOASKMDFAS"
   ]
  },
  {
   "cell_type": "code",
   "execution_count": 31,
   "id": "6c15ee1e",
   "metadata": {},
   "outputs": [
    {
     "name": "stdout",
     "output_type": "stream",
     "text": [
      "   idVenta idProducto  cantidad  precio    costo cancelada\n",
      "0     6812     CAF001         1    4200  1155.47        No\n",
      "1     6812     DUL004         1    5000  2250.00        No\n",
      "2     6812     ADI001         1    1500   174.00        No\n",
      "3     6811     DUL003         1    3800  1100.00        No\n",
      "4     6811     DUL009         1    4500  1434.00        No\n"
     ]
    }
   ],
   "source": [
    "mapa = dict(zip(df_producto[\"nombre\"], df_producto[\"idProducto\"]))\n",
    "\n",
    "df_detalle_venta[\"idProducto\"] = df_detalle_venta[\"producto\"].map(mapa)\n",
    "\n",
    "df_detalle_venta = df_detalle_venta.drop(columns=[\"producto\", \"categoria\"])\n",
    "\n",
    "# Ordena columnas\n",
    "df_detalle_venta = df_detalle_venta[[\"idVenta\", \"idProducto\", \"cantidad\", \"precio\", \"costo\", \"cancelada\"]]\n",
    "\n",
    "print(df_detalle_venta.head())"
   ]
  }
 ],
 "metadata": {
  "kernelspec": {
   "display_name": "Python 3",
   "language": "python",
   "name": "python3"
  },
  "language_info": {
   "codemirror_mode": {
    "name": "ipython",
    "version": 3
   },
   "file_extension": ".py",
   "mimetype": "text/x-python",
   "name": "python",
   "nbconvert_exporter": "python",
   "pygments_lexer": "ipython3",
   "version": "3.12.8"
  }
 },
 "nbformat": 4,
 "nbformat_minor": 5
}
